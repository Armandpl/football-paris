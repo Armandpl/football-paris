{
 "cells": [
  {
   "cell_type": "code",
   "execution_count": 1,
   "metadata": {},
   "outputs": [
    {
     "name": "stdout",
     "output_type": "stream",
     "text": [
      "Learner process started\n",
      "Actor process 0 started\n",
      "Current Opponent model Num:0, Path:logs/[11-01]23.53.08/model_0.tar successfully loaded\n",
      "step : 24 loss -0.07454153181364138 data_q 1 summary_q 0\n",
      "step : 48 loss 0.03549546127518018 data_q 1 summary_q 0\n",
      "step : 72 loss 0.01939342139909665 data_q 1 summary_q 0\n",
      "step : 96 loss 0.03522882814286277 data_q 1 summary_q 0\n",
      "step : 120 loss 0.00950449297670275 data_q 1 summary_q 0\n",
      "Model saved : logs/[11-01]23.53.08/model_120.tar\n",
      "step : 144 loss -0.18113083702822527 data_q 1 summary_q 0\n",
      "step : 168 loss -0.0036020564924304685 data_q 1 summary_q 0\n",
      "step : 192 loss -0.04629992072780927 data_q 1 summary_q 0\n",
      "step : 216 loss -0.023730694762586307 data_q 1 summary_q 0\n",
      "step : 240 loss 0.03916484800477823 data_q 1 summary_q 0\n",
      "Model saved : logs/[11-01]23.53.08/model_240.tar\n",
      "step : 264 loss 0.036621264492472015 data_q 1 summary_q 0\n",
      "step : 288 loss 0.03481739363633096 data_q 1 summary_q 0\n",
      "score 1.0 total reward 5.000000000000005\n",
      "Current Opponent model Num:2, Path:logs/[11-01]23.53.08/model_240.tar successfully loaded\n",
      "step : 312 loss -0.0008170151462157568 data_q 1 summary_q 1\n",
      "step : 336 loss -5.276064621284604e-05 data_q 1 summary_q 1\n",
      "step : 360 loss -0.00930204886632661 data_q 1 summary_q 1\n",
      "Model saved : logs/[11-01]23.53.08/model_360.tar\n",
      "step : 384 loss -0.005985687797268231 data_q 1 summary_q 1\n",
      "step : 408 loss 0.10049736065169175 data_q 1 summary_q 1\n",
      "step : 432 loss -0.010163891638512723 data_q 1 summary_q 1\n",
      "step : 456 loss -0.0180983607036372 data_q 1 summary_q 1\n",
      "step : 480 loss -0.009890491695841774 data_q 1 summary_q 1\n",
      "Model saved : logs/[11-01]23.53.08/model_480.tar\n",
      "step : 504 loss -0.04356238178949449 data_q 1 summary_q 1\n",
      "step : 528 loss -0.022508060714850824 data_q 1 summary_q 1\n",
      "step : 552 loss 0.02370857074856758 data_q 1 summary_q 1\n",
      "step : 576 loss 0.04026684847970804 data_q 1 summary_q 1\n",
      "score 0.0 total reward -2.129\n",
      "Current Opponent model Num:0, Path:logs/[11-01]23.53.08/model_0.tar successfully loaded\n",
      "step : 600 loss 0.0803139911343654 data_q 1 summary_q 2\n",
      "Model saved : logs/[11-01]23.53.08/model_600.tar\n",
      "step : 624 loss -0.0033569359608615437 data_q 1 summary_q 1\n",
      "step : 648 loss -0.030705098062753677 data_q 1 summary_q 1\n",
      "step : 672 loss -0.02469779027160257 data_q 1 summary_q 1\n",
      "step : 696 loss -0.01600417618950208 data_q 1 summary_q 1\n",
      "step : 720 loss -0.0020241855333248773 data_q 1 summary_q 1\n",
      "Model saved : logs/[11-01]23.53.08/model_720.tar\n",
      "step : 744 loss -0.010216417411963144 data_q 1 summary_q 1\n",
      "step : 768 loss 0.3278758243347208 data_q 1 summary_q 1\n",
      "step : 792 loss -0.004342741032208626 data_q 1 summary_q 1\n",
      "step : 816 loss -0.009258078721662363 data_q 1 summary_q 1\n",
      "step : 840 loss -0.03116736840456724 data_q 1 summary_q 1\n",
      "Model saved : logs/[11-01]23.53.08/model_840.tar\n",
      "step : 864 loss 0.05000547909488281 data_q 1 summary_q 1\n",
      "step : 888 loss -0.029454053069154423 data_q 1 summary_q 1\n",
      "score -1.0 total reward -7.522000000000036\n",
      "Current Opponent model Num:7, Path:logs/[11-01]23.53.08/model_840.tar successfully loaded\n",
      "step : 912 loss 0.0601495107014974 data_q 1 summary_q 2\n",
      "step : 936 loss 0.1333678236696869 data_q 1 summary_q 1\n",
      "step : 960 loss -0.007890243704120318 data_q 1 summary_q 1\n",
      "Model saved : logs/[11-01]23.53.08/model_960.tar\n",
      "step : 984 loss -0.03520290367305279 data_q 1 summary_q 1\n",
      "step : 1008 loss -0.015489368699491024 data_q 1 summary_q 1\n",
      "step : 1032 loss 0.0002618480163315932 data_q 1 summary_q 1\n",
      "step : 1056 loss -0.004654491514277955 data_q 1 summary_q 1\n",
      "step : 1080 loss -0.01524842189004024 data_q 1 summary_q 1\n",
      "Model saved : logs/[11-01]23.53.08/model_1080.tar\n",
      "step : 1104 loss -0.03604853774110476 data_q 1 summary_q 1\n",
      "step : 1128 loss -0.016196613820890587 data_q 1 summary_q 1\n",
      "step : 1152 loss -0.0030339973163791 data_q 1 summary_q 1\n"
     ]
    },
    {
     "name": "stderr",
     "output_type": "stream",
     "text": [
      "Process Process-1:\n",
      "Exception in thread Thread-4:\n",
      "Traceback (most recent call last):\n",
      "  File \"/usr/lib/python3.6/threading.py\", line 916, in _bootstrap_inner\n",
      "    self.run()\n",
      "  File \"/usr/local/lib/python3.6/dist-packages/tensorboardX/event_file_writer.py\", line 202, in run\n",
      "    data = self._queue.get(True, queue_wait_duration)\n",
      "  File \"/usr/lib/python3.6/multiprocessing/queues.py\", line 108, in get\n",
      "    res = self._recv_bytes()\n",
      "  File \"/usr/lib/python3.6/multiprocessing/connection.py\", line 216, in recv_bytes\n",
      "    buf = self._recv_bytes(maxlength)\n",
      "  File \"/usr/lib/python3.6/multiprocessing/connection.py\", line 407, in _recv_bytes\n",
      "    buf = self._recv(4)\n",
      "  File \"/usr/lib/python3.6/multiprocessing/connection.py\", line 383, in _recv\n",
      "    raise EOFError\n",
      "EOFError\n",
      "Traceback (most recent call last):\n",
      "  File \"/usr/lib/python3.6/multiprocessing/process.py\", line 258, in _bootstrap\n",
      "    self.run()\n",
      "\n",
      "  File \"/usr/lib/python3.6/multiprocessing/process.py\", line 93, in run\n",
      "    self._target(*self._args, **self._kwargs)\n",
      "  File \"/gfootball/football-paris/learner.py\", line 128, in learner\n",
      "    time.sleep(0.1)\n",
      "KeyboardInterrupt\n"
     ]
    },
    {
     "ename": "KeyboardInterrupt",
     "evalue": "",
     "output_type": "error",
     "traceback": [
      "\u001b[0;31m---------------------------------------------------------------------------\u001b[0m",
      "\u001b[0;31mKeyboardInterrupt\u001b[0m                         Traceback (most recent call last)",
      "\u001b[0;32m<ipython-input-1-9975f634ae0b>\u001b[0m in \u001b[0;36m<module>\u001b[0;34m\u001b[0m\n\u001b[1;32m     28\u001b[0m \u001b[0;34m\u001b[0m\u001b[0m\n\u001b[1;32m     29\u001b[0m \u001b[0;34m\u001b[0m\u001b[0m\n\u001b[0;32m---> 30\u001b[0;31m \u001b[0mmain\u001b[0m\u001b[0;34m(\u001b[0m\u001b[0marg_dict\u001b[0m\u001b[0;34m)\u001b[0m\u001b[0;34m\u001b[0m\u001b[0;34m\u001b[0m\u001b[0m\n\u001b[0m",
      "\u001b[0;32m/gfootball/football-paris/train.py\u001b[0m in \u001b[0;36mmain\u001b[0;34m(arg_dict)\u001b[0m\n\u001b[1;32m     77\u001b[0m \u001b[0;34m\u001b[0m\u001b[0m\n\u001b[1;32m     78\u001b[0m     \u001b[0;32mfor\u001b[0m \u001b[0mp\u001b[0m \u001b[0;32min\u001b[0m \u001b[0mprocesses\u001b[0m\u001b[0;34m:\u001b[0m\u001b[0;34m\u001b[0m\u001b[0;34m\u001b[0m\u001b[0m\n\u001b[0;32m---> 79\u001b[0;31m         \u001b[0mp\u001b[0m\u001b[0;34m.\u001b[0m\u001b[0mjoin\u001b[0m\u001b[0;34m(\u001b[0m\u001b[0;34m)\u001b[0m\u001b[0;34m\u001b[0m\u001b[0;34m\u001b[0m\u001b[0m\n\u001b[0m\u001b[1;32m     80\u001b[0m \u001b[0;34m\u001b[0m\u001b[0m\n\u001b[1;32m     81\u001b[0m \u001b[0;34m\u001b[0m\u001b[0m\n",
      "\u001b[0;32m/usr/lib/python3.6/multiprocessing/process.py\u001b[0m in \u001b[0;36mjoin\u001b[0;34m(self, timeout)\u001b[0m\n\u001b[1;32m    122\u001b[0m         \u001b[0;32massert\u001b[0m \u001b[0mself\u001b[0m\u001b[0;34m.\u001b[0m\u001b[0m_parent_pid\u001b[0m \u001b[0;34m==\u001b[0m \u001b[0mos\u001b[0m\u001b[0;34m.\u001b[0m\u001b[0mgetpid\u001b[0m\u001b[0;34m(\u001b[0m\u001b[0;34m)\u001b[0m\u001b[0;34m,\u001b[0m \u001b[0;34m'can only join a child process'\u001b[0m\u001b[0;34m\u001b[0m\u001b[0;34m\u001b[0m\u001b[0m\n\u001b[1;32m    123\u001b[0m         \u001b[0;32massert\u001b[0m \u001b[0mself\u001b[0m\u001b[0;34m.\u001b[0m\u001b[0m_popen\u001b[0m \u001b[0;32mis\u001b[0m \u001b[0;32mnot\u001b[0m \u001b[0;32mNone\u001b[0m\u001b[0;34m,\u001b[0m \u001b[0;34m'can only join a started process'\u001b[0m\u001b[0;34m\u001b[0m\u001b[0;34m\u001b[0m\u001b[0m\n\u001b[0;32m--> 124\u001b[0;31m         \u001b[0mres\u001b[0m \u001b[0;34m=\u001b[0m \u001b[0mself\u001b[0m\u001b[0;34m.\u001b[0m\u001b[0m_popen\u001b[0m\u001b[0;34m.\u001b[0m\u001b[0mwait\u001b[0m\u001b[0;34m(\u001b[0m\u001b[0mtimeout\u001b[0m\u001b[0;34m)\u001b[0m\u001b[0;34m\u001b[0m\u001b[0;34m\u001b[0m\u001b[0m\n\u001b[0m\u001b[1;32m    125\u001b[0m         \u001b[0;32mif\u001b[0m \u001b[0mres\u001b[0m \u001b[0;32mis\u001b[0m \u001b[0;32mnot\u001b[0m \u001b[0;32mNone\u001b[0m\u001b[0;34m:\u001b[0m\u001b[0;34m\u001b[0m\u001b[0;34m\u001b[0m\u001b[0m\n\u001b[1;32m    126\u001b[0m             \u001b[0m_children\u001b[0m\u001b[0;34m.\u001b[0m\u001b[0mdiscard\u001b[0m\u001b[0;34m(\u001b[0m\u001b[0mself\u001b[0m\u001b[0;34m)\u001b[0m\u001b[0;34m\u001b[0m\u001b[0;34m\u001b[0m\u001b[0m\n",
      "\u001b[0;32m/usr/lib/python3.6/multiprocessing/popen_fork.py\u001b[0m in \u001b[0;36mwait\u001b[0;34m(self, timeout)\u001b[0m\n\u001b[1;32m     48\u001b[0m                     \u001b[0;32mreturn\u001b[0m \u001b[0;32mNone\u001b[0m\u001b[0;34m\u001b[0m\u001b[0;34m\u001b[0m\u001b[0m\n\u001b[1;32m     49\u001b[0m             \u001b[0;31m# This shouldn't block if wait() returned successfully.\u001b[0m\u001b[0;34m\u001b[0m\u001b[0;34m\u001b[0m\u001b[0;34m\u001b[0m\u001b[0m\n\u001b[0;32m---> 50\u001b[0;31m             \u001b[0;32mreturn\u001b[0m \u001b[0mself\u001b[0m\u001b[0;34m.\u001b[0m\u001b[0mpoll\u001b[0m\u001b[0;34m(\u001b[0m\u001b[0mos\u001b[0m\u001b[0;34m.\u001b[0m\u001b[0mWNOHANG\u001b[0m \u001b[0;32mif\u001b[0m \u001b[0mtimeout\u001b[0m \u001b[0;34m==\u001b[0m \u001b[0;36m0.0\u001b[0m \u001b[0;32melse\u001b[0m \u001b[0;36m0\u001b[0m\u001b[0;34m)\u001b[0m\u001b[0;34m\u001b[0m\u001b[0;34m\u001b[0m\u001b[0m\n\u001b[0m\u001b[1;32m     51\u001b[0m         \u001b[0;32mreturn\u001b[0m \u001b[0mself\u001b[0m\u001b[0;34m.\u001b[0m\u001b[0mreturncode\u001b[0m\u001b[0;34m\u001b[0m\u001b[0;34m\u001b[0m\u001b[0m\n\u001b[1;32m     52\u001b[0m \u001b[0;34m\u001b[0m\u001b[0m\n",
      "\u001b[0;32m/usr/lib/python3.6/multiprocessing/popen_fork.py\u001b[0m in \u001b[0;36mpoll\u001b[0;34m(self, flag)\u001b[0m\n\u001b[1;32m     26\u001b[0m             \u001b[0;32mwhile\u001b[0m \u001b[0;32mTrue\u001b[0m\u001b[0;34m:\u001b[0m\u001b[0;34m\u001b[0m\u001b[0;34m\u001b[0m\u001b[0m\n\u001b[1;32m     27\u001b[0m                 \u001b[0;32mtry\u001b[0m\u001b[0;34m:\u001b[0m\u001b[0;34m\u001b[0m\u001b[0;34m\u001b[0m\u001b[0m\n\u001b[0;32m---> 28\u001b[0;31m                     \u001b[0mpid\u001b[0m\u001b[0;34m,\u001b[0m \u001b[0msts\u001b[0m \u001b[0;34m=\u001b[0m \u001b[0mos\u001b[0m\u001b[0;34m.\u001b[0m\u001b[0mwaitpid\u001b[0m\u001b[0;34m(\u001b[0m\u001b[0mself\u001b[0m\u001b[0;34m.\u001b[0m\u001b[0mpid\u001b[0m\u001b[0;34m,\u001b[0m \u001b[0mflag\u001b[0m\u001b[0;34m)\u001b[0m\u001b[0;34m\u001b[0m\u001b[0;34m\u001b[0m\u001b[0m\n\u001b[0m\u001b[1;32m     29\u001b[0m                 \u001b[0;32mexcept\u001b[0m \u001b[0mOSError\u001b[0m \u001b[0;32mas\u001b[0m \u001b[0me\u001b[0m\u001b[0;34m:\u001b[0m\u001b[0;34m\u001b[0m\u001b[0;34m\u001b[0m\u001b[0m\n\u001b[1;32m     30\u001b[0m                     \u001b[0;31m# Child process not yet created. See #1731717\u001b[0m\u001b[0;34m\u001b[0m\u001b[0;34m\u001b[0m\u001b[0;34m\u001b[0m\u001b[0m\n",
      "\u001b[0;31mKeyboardInterrupt\u001b[0m: "
     ]
    }
   ],
   "source": [
    "from train import *\n",
    "\n",
    "if __name__ == '__main__':\n",
    "    # hyperparameters\n",
    "    arg_dict = {\n",
    "        \"env\": \"11_vs_11_kaggle\",\n",
    "        \"num_processes\": 1,\n",
    "        \"batch_size\": 4,   \n",
    "        \"buffer_size\": 2,\n",
    "        \"rollout_len\": 30,\n",
    "        \"lstm_size\" : 196,\n",
    "        \"k_epoch\" : 3,\n",
    "        \"summary_game_window\" : 1,\n",
    "        \"model_save_interval\" : 100,\n",
    "        \"learning_rate\" : 0.0001,\n",
    "        \"gamma\" : 0.993,\n",
    "        \"lmbda\" : 0.96,\n",
    "        \"entropy_coef\" : 0.00003,\n",
    "#         \"trained_model_path\" : \"logs/[10-28]03.56.37/model_800640.pt\",   # default : None\n",
    "        \"trained_model_path\" : None,\n",
    "        \"print_mode\" : False,\n",
    "        \"latest_ratio\" : 0.5,\n",
    "        \n",
    "        \"encoder\" : \"encoder_raw\",\n",
    "        \"rewarder\" : \"rewarder_se\",\n",
    "        \"model\" : \"ppo_conv1d\"\n",
    "    }\n",
    "    \n",
    "\n",
    "main(arg_dict)"
   ]
  },
  {
   "cell_type": "code",
   "execution_count": 1,
   "metadata": {
    "scrolled": false
   },
   "outputs": [
    {
     "name": "stdout",
     "output_type": "stream",
     "text": [
      "0.15057106765923955\n"
     ]
    }
   ],
   "source": [
    "import random\n",
    "\n",
    "x = random.random()\n",
    "print(x)\n",
    "\n"
   ]
  },
  {
   "cell_type": "code",
   "execution_count": 1,
   "metadata": {},
   "outputs": [
    {
     "name": "stdout",
     "output_type": "stream",
     "text": [
      "[] [1, 4, 2]\n"
     ]
    }
   ],
   "source": [
    "x = [1,4,2]\n",
    "print(x[3:],x[:3])"
   ]
  }
 ],
 "metadata": {
  "kernelspec": {
   "display_name": "Python 3",
   "language": "python",
   "name": "python3"
  },
  "language_info": {
   "codemirror_mode": {
    "name": "ipython",
    "version": 3
   },
   "file_extension": ".py",
   "mimetype": "text/x-python",
   "name": "python",
   "nbconvert_exporter": "python",
   "pygments_lexer": "ipython3",
   "version": "3.6.9"
  }
 },
 "nbformat": 4,
 "nbformat_minor": 4
}
