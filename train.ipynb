{
 "cells": [
  {
   "cell_type": "code",
   "execution_count": null,
   "metadata": {
    "scrolled": true
   },
   "outputs": [],
   "source": [
    "import gfootball.env as football_env\n",
    "import time, pprint\n",
    "import numpy as np\n",
    "import torch\n",
    "import torch.nn as nn\n",
    "import torch.nn.functional as F\n",
    "import torch.optim as optim\n",
    "from torch.distributions import Categorical\n",
    "import torch.multiprocessing as mp \n",
    "from tensorboardX import SummaryWriter\n",
    "\n",
    "from FeatureEncoder import *\n",
    "from ppo import *\n",
    "from actor import *\n",
    "from learner import *\n",
    "from datetime import datetime, timedelta\n",
    "\n",
    "\n",
    "if __name__ == '__main__':\n",
    "    # hyperparameters\n",
    "    arg_dict = {\n",
    "        \"num_processes\": 8,\n",
    "        \"batch_size\": 16,   \n",
    "        \"buffer_size\": 6,\n",
    "        \"rollout_len\": 10,\n",
    "        \"lstm_size\" : 196,\n",
    "        \"k_epoch\" : 3,\n",
    "        \"summary_game_window\" : 5,\n",
    "    }\n",
    "    \n",
    "    np.set_printoptions(precision=3)\n",
    "    np.set_printoptions(suppress=True)\n",
    "    pp = pprint.PrettyPrinter(indent=4)\n",
    "    torch.set_num_threads(1)\n",
    "    \n",
    "    center_model = PPO(arg_dict[\"lstm_size\"], arg_dict[\"k_epoch\"])\n",
    "    center_model.share_memory()\n",
    "    data_queue = mp.Queue()\n",
    "    signal_queue = mp.Queue()\n",
    "    summary_queue = mp.Queue()\n",
    "    processes = []\n",
    "    \n",
    "    p = mp.Process(target=learner, args=(center_model, data_queue, signal_queue, summary_queue, arg_dict))\n",
    "    p.start()\n",
    "    processes.append(p)\n",
    "    for rank in range(arg_dict[\"num_processes\"]):\n",
    "        p = mp.Process(target=actor, args=(rank, center_model, data_queue, signal_queue, summary_queue, arg_dict))\n",
    "        p.start()\n",
    "        processes.append(p)\n",
    "        \n",
    "    for p in processes:\n",
    "        p.join()\n",
    "        \n",
    "        \n"
   ]
  },
  {
   "cell_type": "code",
   "execution_count": null,
   "metadata": {},
   "outputs": [],
   "source": []
  }
 ],
 "metadata": {
  "kernelspec": {
   "display_name": "Python 3",
   "language": "python",
   "name": "python3"
  },
  "language_info": {
   "codemirror_mode": {
    "name": "ipython",
    "version": 3
   },
   "file_extension": ".py",
   "mimetype": "text/x-python",
   "name": "python",
   "nbconvert_exporter": "python",
   "pygments_lexer": "ipython3",
   "version": "3.6.9"
  }
 },
 "nbformat": 4,
 "nbformat_minor": 4
}
